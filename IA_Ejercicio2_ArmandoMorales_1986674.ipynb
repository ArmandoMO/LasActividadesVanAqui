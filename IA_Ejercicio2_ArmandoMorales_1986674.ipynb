{
  "cells": [
    {
      "cell_type": "markdown",
      "metadata": {
        "id": "view-in-github",
        "colab_type": "text"
      },
      "source": [
        "<a href=\"https://colab.research.google.com/github/ArmandoMO/LasActividadesVanAqui/blob/main/IA_Ejercicio2_ArmandoMorales_1986674.ipynb\" target=\"_parent\"><img src=\"https://colab.research.google.com/assets/colab-badge.svg\" alt=\"Open In Colab\"/></a>"
      ]
    },
    {
      "cell_type": "code",
      "source": [
        "from operator import invert\n",
        "valor = []\n",
        "for i in range (5):\n",
        "  print(\"Dame el valorde\",i,\"de la lista\",i+1)\n",
        "  a=input()\n",
        "  valor.append(a)\n",
        "  print(\"El ultimo elemento en lista es\",valor[i])\n",
        "  print(\"La lista invertida sería:\")\n",
        "  b= list (reversed(valor))\n",
        "  print(b)"
      ],
      "metadata": {
        "id": "AfgEx45jGlwL",
        "outputId": "a057babd-44f6-4bff-c56e-1a4824b7b575",
        "colab": {
          "base_uri": "https://localhost:8080/"
        }
      },
      "execution_count": null,
      "outputs": [
        {
          "output_type": "stream",
          "name": "stdout",
          "text": [
            "Dame el valorde 0 de la lista 1\n"
          ]
        }
      ]
    }
  ],
  "metadata": {
    "colab": {
      "collapsed_sections": [],
      "name": "Te damos la bienvenida a Colaboratory",
      "toc_visible": true,
      "provenance": [],
      "include_colab_link": true
    },
    "kernelspec": {
      "display_name": "Python 3",
      "name": "python3"
    }
  },
  "nbformat": 4,
  "nbformat_minor": 0
}